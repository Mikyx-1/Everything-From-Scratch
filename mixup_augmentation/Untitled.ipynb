{
 "cells": [
  {
   "cell_type": "code",
   "execution_count": 1,
   "id": "58164cb9",
   "metadata": {},
   "outputs": [
    {
     "name": "stderr",
     "output_type": "stream",
     "text": [
      "2023-11-22 20:05:02.787763: I tensorflow/core/platform/cpu_feature_guard.cc:193] This TensorFlow binary is optimized with oneAPI Deep Neural Network Library (oneDNN) to use the following CPU instructions in performance-critical operations:  AVX2 AVX512F AVX512_VNNI FMA\n",
      "To enable them in other operations, rebuild TensorFlow with the appropriate compiler flags.\n",
      "2023-11-22 20:05:03.404986: I tensorflow/core/util/port.cc:104] oneDNN custom operations are on. You may see slightly different numerical results due to floating-point round-off errors from different computation orders. To turn them off, set the environment variable `TF_ENABLE_ONEDNN_OPTS=0`.\n",
      "2023-11-22 20:05:03.469812: W tensorflow/compiler/xla/stream_executor/platform/default/dso_loader.cc:64] Could not load dynamic library 'libcudart.so.11.0'; dlerror: libcudart.so.11.0: cannot open shared object file: No such file or directory\n",
      "2023-11-22 20:05:03.469830: I tensorflow/compiler/xla/stream_executor/cuda/cudart_stub.cc:29] Ignore above cudart dlerror if you do not have a GPU set up on your machine.\n",
      "2023-11-22 20:05:04.763730: W tensorflow/compiler/xla/stream_executor/platform/default/dso_loader.cc:64] Could not load dynamic library 'libnvinfer.so.7'; dlerror: libnvinfer.so.7: cannot open shared object file: No such file or directory\n",
      "2023-11-22 20:05:04.763797: W tensorflow/compiler/xla/stream_executor/platform/default/dso_loader.cc:64] Could not load dynamic library 'libnvinfer_plugin.so.7'; dlerror: libnvinfer_plugin.so.7: cannot open shared object file: No such file or directory\n",
      "2023-11-22 20:05:04.763804: W tensorflow/compiler/tf2tensorrt/utils/py_utils.cc:38] TF-TRT Warning: Cannot dlopen some TensorRT libraries. If you would like to use Nvidia GPU with TensorRT, please make sure the missing libraries mentioned above are installed properly.\n"
     ]
    }
   ],
   "source": [
    "import numpy as np\n",
    "import tensorflow as tf\n",
    "import matplotlib.pyplot as plt\n",
    "from tensorflow.keras import layers"
   ]
  },
  {
   "cell_type": "code",
   "execution_count": 2,
   "id": "d615bceb",
   "metadata": {},
   "outputs": [
    {
     "name": "stdout",
     "output_type": "stream",
     "text": [
      "Downloading data from https://storage.googleapis.com/tensorflow/tf-keras-datasets/train-labels-idx1-ubyte.gz\n",
      "29515/29515 [==============================] - 0s 1us/step\n",
      "Downloading data from https://storage.googleapis.com/tensorflow/tf-keras-datasets/train-images-idx3-ubyte.gz\n",
      "26421880/26421880 [==============================] - 6s 0us/step\n",
      "Downloading data from https://storage.googleapis.com/tensorflow/tf-keras-datasets/t10k-labels-idx1-ubyte.gz\n",
      "5148/5148 [==============================] - 0s 0us/step\n",
      "Downloading data from https://storage.googleapis.com/tensorflow/tf-keras-datasets/t10k-images-idx3-ubyte.gz\n",
      "4422102/4422102 [==============================] - 1s 0us/step\n"
     ]
    },
    {
     "name": "stderr",
     "output_type": "stream",
     "text": [
      "2023-11-22 20:05:17.793497: W tensorflow/compiler/xla/stream_executor/platform/default/dso_loader.cc:64] Could not load dynamic library 'libcuda.so.1'; dlerror: libcuda.so.1: cannot open shared object file: No such file or directory\n",
      "2023-11-22 20:05:17.797759: W tensorflow/compiler/xla/stream_executor/cuda/cuda_driver.cc:265] failed call to cuInit: UNKNOWN ERROR (303)\n",
      "2023-11-22 20:05:17.797786: I tensorflow/compiler/xla/stream_executor/cuda/cuda_diagnostics.cc:156] kernel driver does not appear to be running on this host (edmond-Inspiron-13-5310): /proc/driver/nvidia/version does not exist\n",
      "2023-11-22 20:05:17.811032: I tensorflow/core/platform/cpu_feature_guard.cc:193] This TensorFlow binary is optimized with oneAPI Deep Neural Network Library (oneDNN) to use the following CPU instructions in performance-critical operations:  AVX2 AVX512F AVX512_VNNI FMA\n",
      "To enable them in other operations, rebuild TensorFlow with the appropriate compiler flags.\n"
     ]
    }
   ],
   "source": [
    "(x_train, y_train), (x_test, y_test) = tf.keras.datasets.fashion_mnist.load_data()\n",
    "\n",
    "x_train = x_train.astype(\"float32\") / 255.0\n",
    "x_train = np.reshape(x_train, (-1, 28, 28, 1))\n",
    "y_train = tf.one_hot(y_train, 10)\n",
    "\n",
    "x_test = x_test.astype(\"float32\") / 255.0\n",
    "x_test = np.reshape(x_test, (-1, 28, 28, 1))\n",
    "y_test = tf.one_hot(y_test, 10)"
   ]
  },
  {
   "cell_type": "code",
   "execution_count": 3,
   "id": "a2bdddcf",
   "metadata": {},
   "outputs": [],
   "source": [
    "AUTO = tf.data.AUTOTUNE\n",
    "BATCH_SIZE = 64\n",
    "EPOCHS = 10"
   ]
  },
  {
   "cell_type": "code",
   "execution_count": 4,
   "id": "3ac543db",
   "metadata": {},
   "outputs": [],
   "source": [
    "# Put aside a few samples to create our validation set\n",
    "val_samples = 2000\n",
    "x_val, y_val = x_train[:val_samples], y_train[:val_samples]\n",
    "new_x_train, new_y_train = x_train[val_samples:], y_train[val_samples:]\n",
    "\n",
    "train_ds_one = (\n",
    "    tf.data.Dataset.from_tensor_slices((new_x_train, new_y_train))\n",
    "    .shuffle(BATCH_SIZE * 100)\n",
    "    .batch(BATCH_SIZE)\n",
    ")\n",
    "train_ds_two = (\n",
    "    tf.data.Dataset.from_tensor_slices((new_x_train, new_y_train))\n",
    "    .shuffle(BATCH_SIZE * 100)\n",
    "    .batch(BATCH_SIZE)\n",
    ")\n",
    "# Because we will be mixing up the images and their corresponding labels, we will be\n",
    "# combining two shuffled datasets from the same training data.\n",
    "train_ds = tf.data.Dataset.zip((train_ds_one, train_ds_two))\n",
    "\n",
    "val_ds = tf.data.Dataset.from_tensor_slices((x_val, y_val)).batch(BATCH_SIZE)\n",
    "\n",
    "test_ds = tf.data.Dataset.from_tensor_slices((x_test, y_test)).batch(BATCH_SIZE)"
   ]
  },
  {
   "cell_type": "code",
   "execution_count": 18,
   "id": "24c2f582",
   "metadata": {},
   "outputs": [],
   "source": [
    "def sample_beta_distribution(size, concentration_0=0.2, concentration_1=0.2):\n",
    "    gamma_1_sample = tf.random.gamma(shape=[size], alpha=concentration_1)\n",
    "    gamma_2_sample = tf.random.gamma(shape=[size], alpha=concentration_0)\n",
    "    return gamma_1_sample / (gamma_1_sample + gamma_2_sample)\n",
    "\n",
    "\n",
    "def mix_up(ds_one, ds_two, alpha=0.2):\n",
    "    # Unpack two datasets\n",
    "    images_one, labels_one = ds_one\n",
    "    images_two, labels_two = ds_two\n",
    "    batch_size = tf.shape(images_one)[0]\n",
    "\n",
    "    # Sample lambda and reshape it to do the mixup\n",
    "    l = sample_beta_distribution(batch_size, alpha, alpha)\n",
    "    x_l = tf.reshape(l, (batch_size, 1, 1, 1))\n",
    "    y_l = tf.reshape(l, (batch_size, 1))\n",
    "\n",
    "    # Perform mixup on both images and labels by combining a pair of images/labels\n",
    "    # (one from each dataset) into one image/label\n",
    "    images = images_one * x_l + images_two * (1 - x_l)\n",
    "    labels = labels_one * y_l + labels_two * (1 - y_l)\n",
    "    return (images, labels)"
   ]
  },
  {
   "cell_type": "code",
   "execution_count": 19,
   "id": "f2c8d0d3",
   "metadata": {},
   "outputs": [
    {
     "name": "stdout",
     "output_type": "stream",
     "text": [
      "[0.0, 0.0, 0.0, 0.0, 0.0, 0.0, 2.310677336936351e-05, 0.0, 0.9999768733978271, 0.0]\n",
      "[0.04768514633178711, 0.0, 0.0, 0.0, 0.9523148536682129, 0.0, 0.0, 0.0, 0.0, 0.0]\n",
      "[0.0, 0.0, 0.0, 0.0, 0.0, 1.0, 0.0, 0.0, 0.0, 0.0]\n",
      "[0.0, 0.8884774446487427, 0.0, 0.11152255535125732, 0.0, 0.0, 0.0, 0.0, 0.0, 0.0]\n",
      "[0.9575706720352173, 0.0, 0.0, 0.0, 0.0, 0.0, 0.0, 0.0, 0.042429327964782715, 0.0]\n",
      "[0.0, 0.0, 0.07957660406827927, 0.0, 0.0, 0.0, 0.0, 0.0, 0.0, 0.9204233884811401]\n",
      "[0.0, 0.0, 0.0, 0.0, 0.0, 0.6695352792739868, 0.0, 0.0, 0.0, 0.3304647207260132]\n",
      "[0.0, 0.0, 0.0, 0.03627486154437065, 0.0, 0.0, 0.0, 0.9637251496315002, 0.0, 0.0]\n",
      "[0.0, 0.0, 0.0, 0.0, 0.0, 0.0, 0.0, 0.0, 0.5505000352859497, 0.4494999647140503]\n"
     ]
    },
    {
     "data": {
      "image/png": "[encoded data removed]",
      "text/plain": [
       "<Figure size 1000x1000 with 9 Axes>"
      ]
     },
     "metadata": {},
     "output_type": "display_data"
    }
   ],
   "source": [
    "# First create the new dataset using our `mix_up` utility\n",
    "train_ds_mu = train_ds.map(\n",
    "    lambda ds_one, ds_two: mix_up(ds_one, ds_two, alpha=0.2), num_parallel_calls=-1\n",
    ")\n",
    "\n",
    "# Let's preview 9 samples from the dataset\n",
    "sample_images, sample_labels = next(iter(train_ds_mu))\n",
    "plt.figure(figsize=(10, 10))\n",
    "for i, (image, label) in enumerate(zip(sample_images[:9], sample_labels[:9])):\n",
    "    ax = plt.subplot(3, 3, i + 1)\n",
    "    plt.imshow(image.numpy().squeeze())\n",
    "    print(label.numpy().tolist())\n",
    "    plt.axis(\"off\")"
   ]
  },
  {
   "cell_type": "code",
   "execution_count": 20,
   "id": "438f1378",
   "metadata": {},
   "outputs": [],
   "source": [
    "def get_training_model():\n",
    "    model = tf.keras.Sequential(\n",
    "        [\n",
    "            layers.Conv2D(16, (5, 5), activation=\"relu\", input_shape=(28, 28, 1)),\n",
    "            layers.MaxPooling2D(pool_size=(2, 2)),\n",
    "            layers.Conv2D(32, (5, 5), activation=\"relu\"),\n",
    "            layers.MaxPooling2D(pool_size=(2, 2)),\n",
    "            layers.Dropout(0.2),\n",
    "            layers.GlobalAvgPool2D(),\n",
    "            layers.Dense(128, activation=\"relu\"),\n",
    "            layers.Dense(10, activation=\"softmax\"),\n",
    "        ]\n",
    "    )\n",
    "    return model"
   ]
  },
  {
   "cell_type": "code",
   "execution_count": 21,
   "id": "f9754a31",
   "metadata": {},
   "outputs": [],
   "source": [
    "initial_model = get_training_model()\n",
    "initial_model.save_weights(\"initial_weights.h5\")"
   ]
  },
  {
   "cell_type": "code",
   "execution_count": 22,
   "id": "5ab737c6",
   "metadata": {},
   "outputs": [
    {
     "name": "stdout",
     "output_type": "stream",
     "text": [
      "Epoch 1/10\n",
      "907/907 [==============================] - 7s 7ms/step - loss: 1.1997 - accuracy: 0.6268 - val_loss: 0.7109 - val_accuracy: 0.7500\n",
      "Epoch 2/10\n",
      "907/907 [==============================] - 6s 6ms/step - loss: 0.9440 - accuracy: 0.7281 - val_loss: 0.5673 - val_accuracy: 0.8010\n",
      "Epoch 3/10\n",
      "907/907 [==============================] - 6s 6ms/step - loss: 0.8696 - accuracy: 0.7623 - val_loss: 0.4967 - val_accuracy: 0.8310\n",
      "Epoch 4/10\n",
      "907/907 [==============================] - 6s 6ms/step - loss: 0.8196 - accuracy: 0.7843 - val_loss: 0.4792 - val_accuracy: 0.8410\n",
      "Epoch 5/10\n",
      "907/907 [==============================] - 6s 6ms/step - loss: 0.7896 - accuracy: 0.7947 - val_loss: 0.4228 - val_accuracy: 0.8565\n",
      "Epoch 6/10\n",
      "907/907 [==============================] - 6s 6ms/step - loss: 0.7591 - accuracy: 0.8068 - val_loss: 0.4223 - val_accuracy: 0.8580\n",
      "Epoch 7/10\n",
      "907/907 [==============================] - 6s 6ms/step - loss: 0.7412 - accuracy: 0.8132 - val_loss: 0.3912 - val_accuracy: 0.8680\n",
      "Epoch 8/10\n",
      "907/907 [==============================] - 6s 6ms/step - loss: 0.7224 - accuracy: 0.8186 - val_loss: 0.3971 - val_accuracy: 0.8680\n",
      "Epoch 9/10\n",
      "907/907 [==============================] - 6s 6ms/step - loss: 0.7159 - accuracy: 0.8209 - val_loss: 0.3664 - val_accuracy: 0.8725\n",
      "Epoch 10/10\n",
      "907/907 [==============================] - 6s 6ms/step - loss: 0.7000 - accuracy: 0.8266 - val_loss: 0.3688 - val_accuracy: 0.8660\n",
      "157/157 [==============================] - 0s 3ms/step - loss: 0.3911 - accuracy: 0.8618\n",
      "Test accuracy: 86.18%\n"
     ]
    }
   ],
   "source": [
    "model = get_training_model()\n",
    "model.load_weights(\"initial_weights.h5\")\n",
    "model.compile(loss=\"categorical_crossentropy\", optimizer=\"adam\", metrics=[\"accuracy\"])\n",
    "model.fit(train_ds_mu, validation_data=val_ds, epochs=EPOCHS)\n",
    "_, test_acc = model.evaluate(test_ds)\n",
    "print(\"Test accuracy: {:.2f}%\".format(test_acc * 100))"
   ]
  },
  {
   "cell_type": "code",
   "execution_count": 23,
   "id": "ca4665e3",
   "metadata": {},
   "outputs": [
    {
     "name": "stdout",
     "output_type": "stream",
     "text": [
      "Epoch 1/10\n",
      "907/907 [==============================] - 7s 6ms/step - loss: 0.8916 - accuracy: 0.6690 - val_loss: 0.6418 - val_accuracy: 0.7655\n",
      "Epoch 2/10\n",
      "907/907 [==============================] - 6s 6ms/step - loss: 0.6311 - accuracy: 0.7610 - val_loss: 0.5633 - val_accuracy: 0.7895\n",
      "Epoch 3/10\n",
      "907/907 [==============================] - 6s 6ms/step - loss: 0.5514 - accuracy: 0.7966 - val_loss: 0.4759 - val_accuracy: 0.8370\n",
      "Epoch 4/10\n",
      "907/907 [==============================] - 6s 6ms/step - loss: 0.4936 - accuracy: 0.8197 - val_loss: 0.4632 - val_accuracy: 0.8355\n",
      "Epoch 5/10\n",
      "907/907 [==============================] - 6s 6ms/step - loss: 0.4586 - accuracy: 0.8340 - val_loss: 0.4013 - val_accuracy: 0.8570\n",
      "Epoch 6/10\n",
      "907/907 [==============================] - 6s 6ms/step - loss: 0.4289 - accuracy: 0.8443 - val_loss: 0.3955 - val_accuracy: 0.8590\n",
      "Epoch 7/10\n",
      "907/907 [==============================] - 6s 6ms/step - loss: 0.4074 - accuracy: 0.8531 - val_loss: 0.3698 - val_accuracy: 0.8630\n",
      "Epoch 8/10\n",
      "907/907 [==============================] - 6s 6ms/step - loss: 0.3894 - accuracy: 0.8599 - val_loss: 0.3580 - val_accuracy: 0.8760\n",
      "Epoch 9/10\n",
      "907/907 [==============================] - 6s 6ms/step - loss: 0.3768 - accuracy: 0.8634 - val_loss: 0.3509 - val_accuracy: 0.8765\n",
      "Epoch 10/10\n",
      "907/907 [==============================] - 6s 6ms/step - loss: 0.3652 - accuracy: 0.8659 - val_loss: 0.3396 - val_accuracy: 0.8760\n",
      "157/157 [==============================] - 0s 3ms/step - loss: 0.3679 - accuracy: 0.8698\n",
      "Test accuracy: 86.98%\n"
     ]
    }
   ],
   "source": [
    "model = get_training_model()\n",
    "model.load_weights(\"initial_weights.h5\")\n",
    "model.compile(loss=\"categorical_crossentropy\", optimizer=\"adam\", metrics=[\"accuracy\"])\n",
    "# Notice that we are NOT using the mixed up dataset here\n",
    "model.fit(train_ds_one, validation_data=val_ds, epochs=EPOCHS)\n",
    "_, test_acc = model.evaluate(test_ds)\n",
    "print(\"Test accuracy: {:.2f}%\".format(test_acc * 100))"
   ]
  },
  {
   "cell_type": "code",
   "execution_count": null,
   "id": "2f9ede96",
   "metadata": {},
   "outputs": [],
   "source": []
  }
 ],
 "metadata": {
  "kernelspec": {
   "display_name": "virenv1",
   "language": "python",
   "name": "youtube-tutorial"
  },
  "language_info": {
   "codemirror_mode": {
    "name": "ipython",
    "version": 3
   },
   "file_extension": ".py",
   "mimetype": "text/x-python",
   "name": "python",
   "nbconvert_exporter": "python",
   "pygments_lexer": "ipython3",
   "version": "3.7.16"
  }
 },
 "nbformat": 4,
 "nbformat_minor": 5
}
