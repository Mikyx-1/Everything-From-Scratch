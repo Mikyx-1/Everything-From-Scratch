{
 "cells": [
  {
   "cell_type": "code",
   "execution_count": 144,
   "id": "9eba0bf8",
   "metadata": {},
   "outputs": [],
   "source": [
    "from sklearn.datasets import load_iris\n",
    "from sklearn.model_selection import train_test_split\n",
    "import numpy as np\n",
    "from collections import Counter"
   ]
  },
  {
   "cell_type": "code",
   "execution_count": 3,
   "id": "f6ae1561",
   "metadata": {},
   "outputs": [],
   "source": [
    "X = load_iris()['data']\n",
    "Y = load_iris()['target']"
   ]
  },
  {
   "cell_type": "code",
   "execution_count": 6,
   "id": "a8a691f9",
   "metadata": {},
   "outputs": [],
   "source": [
    "X_train, X_val, Y_train, Y_val = train_test_split(X, Y, test_size=0.2, random_state=42)"
   ]
  },
  {
   "cell_type": "code",
   "execution_count": 200,
   "id": "27a77c08",
   "metadata": {},
   "outputs": [],
   "source": [
    "class kNN:\n",
    "    def __init__(self, n_decisions):\n",
    "        self.n_decisions = n_decisions\n",
    "        \n",
    "    def fit(self, X_train, Y_train):\n",
    "        self.X_train = X_train\n",
    "        self.Y_train = Y_train\n",
    "        num_classes = len(np.unique(Y_train))\n",
    "        if self.n_decisions < num_classes:\n",
    "            self.n_decisions = num_classes\n",
    "    \n",
    "    def predict(self, X_test):\n",
    "        preds = []\n",
    "        for ith, X_test_item in enumerate(X_test):\n",
    "            preds.append([])\n",
    "            for X_train_item in self.X_train:\n",
    "                preds[ith].append(np.linalg.norm(X_test_item - X_train_item, 2))\n",
    "                \n",
    "        preds = np.array(preds).argsort(1)\n",
    "        preds = self.Y_train[preds][:, :self.n_decisions]\n",
    "        \n",
    "        return self.postprocessing(preds).astype(int)\n",
    "    \n",
    "    def postprocessing(self, preds):\n",
    "        # Voting classifer\n",
    "        results = np.array([])\n",
    "        for pred in preds:\n",
    "            results = np.append(results, np.unique(pred, return_counts=True, axis=0)[0][0])\n",
    "        return results\n",
    "        \n",
    "        "
   ]
  },
  {
   "cell_type": "code",
   "execution_count": 219,
   "id": "d1608fe0",
   "metadata": {},
   "outputs": [],
   "source": [
    "clf = kNN(n_decisions=3)\n",
    "clf.fit(X_train, Y_train)"
   ]
  },
  {
   "cell_type": "code",
   "execution_count": 220,
   "id": "a8dc39ec",
   "metadata": {},
   "outputs": [],
   "source": [
    "preds = clf.predict(X_val)"
   ]
  },
  {
   "cell_type": "code",
   "execution_count": 221,
   "id": "f112a124",
   "metadata": {},
   "outputs": [
    {
     "data": {
      "text/plain": [
       "0.9666666666666667"
      ]
     },
     "execution_count": 221,
     "metadata": {},
     "output_type": "execute_result"
    }
   ],
   "source": [
    "len(preds[preds==Y_val])/len(preds)"
   ]
  },
  {
   "cell_type": "code",
   "execution_count": null,
   "id": "8ed44916",
   "metadata": {},
   "outputs": [],
   "source": []
  }
 ],
 "metadata": {
  "kernelspec": {
   "display_name": "virenv1",
   "language": "python",
   "name": "virenv1"
  },
  "language_info": {
   "codemirror_mode": {
    "name": "ipython",
    "version": 3
   },
   "file_extension": ".py",
   "mimetype": "text/x-python",
   "name": "python",
   "nbconvert_exporter": "python",
   "pygments_lexer": "ipython3",
   "version": "3.9.16"
  }
 },
 "nbformat": 4,
 "nbformat_minor": 5
}
